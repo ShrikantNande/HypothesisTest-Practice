{
 "cells": [
  {
   "attachments": {
    "1.jpeg": {
     "image/jpeg": "[encoded data removed]"
    }
   },
   "cell_type": "markdown",
   "metadata": {},
   "source": [
    "### <center> Hypothesis_Test !!! </center>\n",
    "![1.jpeg](attachment:1.jpeg)"
   ]
  },
  {
   "cell_type": "code",
   "execution_count": 1,
   "metadata": {},
   "outputs": [],
   "source": [
    "import pandas as pd\n",
    "import numpy as np\n",
    "import matplotlib.pyplot as plt"
   ]
  },
  {
   "cell_type": "code",
   "execution_count": 17,
   "metadata": {},
   "outputs": [
    {
     "data": {
      "text/html": [
       "<div>\n",
       "<style scoped>\n",
       "    .dataframe tbody tr th:only-of-type {\n",
       "        vertical-align: middle;\n",
       "    }\n",
       "\n",
       "    .dataframe tbody tr th {\n",
       "        vertical-align: top;\n",
       "    }\n",
       "\n",
       "    .dataframe thead th {\n",
       "        text-align: right;\n",
       "    }\n",
       "</style>\n",
       "<table border=\"1\" class=\"dataframe\">\n",
       "  <thead>\n",
       "    <tr style=\"text-align: right;\">\n",
       "      <th></th>\n",
       "      <th>Surname</th>\n",
       "      <th>Name</th>\n",
       "      <th>Age</th>\n",
       "      <th>Gender</th>\n",
       "      <th>Country</th>\n",
       "      <th>Ethnicity</th>\n",
       "      <th>Start_date</th>\n",
       "      <th>Department</th>\n",
       "      <th>Position</th>\n",
       "      <th>Salary</th>\n",
       "    </tr>\n",
       "  </thead>\n",
       "  <tbody>\n",
       "    <tr>\n",
       "      <th>0</th>\n",
       "      <td>Sweetwater</td>\n",
       "      <td>Alex</td>\n",
       "      <td>51</td>\n",
       "      <td>Male</td>\n",
       "      <td>United States</td>\n",
       "      <td>White</td>\n",
       "      <td>8/15/2011</td>\n",
       "      <td>Software Engineering</td>\n",
       "      <td>Software Engineering Manager</td>\n",
       "      <td>$56,160.00</td>\n",
       "    </tr>\n",
       "    <tr>\n",
       "      <th>1</th>\n",
       "      <td>Carabbio</td>\n",
       "      <td>Judith</td>\n",
       "      <td>30</td>\n",
       "      <td>Female</td>\n",
       "      <td>United States</td>\n",
       "      <td>White</td>\n",
       "      <td>11/11/2013</td>\n",
       "      <td>Software Engineering</td>\n",
       "      <td>Software Engineer</td>\n",
       "      <td>$116,480.00</td>\n",
       "    </tr>\n",
       "  </tbody>\n",
       "</table>\n",
       "</div>"
      ],
      "text/plain": [
       "      Surname    Name  Age  Gender        Country Ethnicity  Start_date  \\\n",
       "0  Sweetwater    Alex   51    Male  United States     White   8/15/2011   \n",
       "1    Carabbio  Judith   30  Female  United States     White  11/11/2013   \n",
       "\n",
       "                  Department                      Position       Salary  \n",
       "0  Software Engineering       Software Engineering Manager   $56,160.00  \n",
       "1       Software Engineering             Software Engineer  $116,480.00  "
      ]
     },
     "execution_count": 17,
     "metadata": {},
     "output_type": "execute_result"
    }
   ],
   "source": [
    "from pandas import ExcelWriter\n",
    "from pandas import ExcelFile\n",
    "df = pd.read_csv('/home/shri/Documents/projects/Hypothesis/data.csv')\n",
    "df.head(2)"
   ]
  },
  {
   "cell_type": "code",
   "execution_count": 23,
   "metadata": {},
   "outputs": [
    {
     "data": {
      "text/plain": [
       "(112, 10)"
      ]
     },
     "execution_count": 23,
     "metadata": {},
     "output_type": "execute_result"
    }
   ],
   "source": [
    "df.shape"
   ]
  },
  {
   "cell_type": "markdown",
   "metadata": {},
   "source": [
    "# Hypothesis Test"
   ]
  },
  {
   "cell_type": "markdown",
   "metadata": {},
   "source": [
    "#### State The Hypothesis"
   ]
  },
  {
   "cell_type": "markdown",
   "metadata": {},
   "source": [
    "Average salary gain by the male and female engg are equal."
   ]
  },
  {
   "attachments": {
    "null.png": {
     "image/png": "[encoded data removed]"
    }
   },
   "cell_type": "markdown",
   "metadata": {},
   "source": [
    "![null.png](attachment:null.png)"
   ]
  },
  {
   "cell_type": "markdown",
   "metadata": {},
   "source": [
    "- H0: Average Salary is equal. (Null Hypothesis)\n",
    "- H1: Average Salary for male is different no females. (Alternative Hypothesis) \n",
    "    - Significant level : 0.05"
   ]
  },
  {
   "cell_type": "markdown",
   "metadata": {},
   "source": [
    "#### Step 1: Structure the dataset"
   ]
  },
  {
   "cell_type": "code",
   "execution_count": 35,
   "metadata": {},
   "outputs": [
    {
     "name": "stdout",
     "output_type": "stream",
     "text": [
      "112\n"
     ]
    }
   ],
   "source": [
    "import re\n",
    "x = []\n",
    "for i in df[\"Salary\"]:\n",
    "    y=i.replace('$', '')\n",
    "    y=y.replace(',', '')\n",
    "    y=int(float(y))\n",
    "    x.append(y)\n",
    "print(len(x))"
   ]
  },
  {
   "cell_type": "code",
   "execution_count": 36,
   "metadata": {},
   "outputs": [],
   "source": [
    "df[\"salary\"] = x"
   ]
  },
  {
   "cell_type": "code",
   "execution_count": 37,
   "metadata": {},
   "outputs": [
    {
     "name": "stdout",
     "output_type": "stream",
     "text": [
      "- Shape for male (50, 11)\n",
      "- shape for female (62, 11)\n"
     ]
    }
   ],
   "source": [
    "male= df[df[\"Gender\"] == \"Male\"]\n",
    "print(\"- Shape for male\",male.shape)\n",
    "female= df[df[\"Gender\"] == \"Female\"]\n",
    "print(\"- shape for female\",female.shape)"
   ]
  },
  {
   "cell_type": "code",
   "execution_count": 38,
   "metadata": {},
   "outputs": [
    {
     "data": {
      "text/html": [
       "<div>\n",
       "<style scoped>\n",
       "    .dataframe tbody tr th:only-of-type {\n",
       "        vertical-align: middle;\n",
       "    }\n",
       "\n",
       "    .dataframe tbody tr th {\n",
       "        vertical-align: top;\n",
       "    }\n",
       "\n",
       "    .dataframe thead th {\n",
       "        text-align: right;\n",
       "    }\n",
       "</style>\n",
       "<table border=\"1\" class=\"dataframe\">\n",
       "  <thead>\n",
       "    <tr style=\"text-align: right;\">\n",
       "      <th></th>\n",
       "      <th>Surname</th>\n",
       "      <th>Name</th>\n",
       "      <th>Age</th>\n",
       "      <th>Gender</th>\n",
       "      <th>Country</th>\n",
       "      <th>Ethnicity</th>\n",
       "      <th>Start_date</th>\n",
       "      <th>Department</th>\n",
       "      <th>Position</th>\n",
       "      <th>Salary</th>\n",
       "      <th>salary</th>\n",
       "    </tr>\n",
       "  </thead>\n",
       "  <tbody>\n",
       "    <tr>\n",
       "      <th>0</th>\n",
       "      <td>Sweetwater</td>\n",
       "      <td>Alex</td>\n",
       "      <td>51</td>\n",
       "      <td>Male</td>\n",
       "      <td>United States</td>\n",
       "      <td>White</td>\n",
       "      <td>8/15/2011</td>\n",
       "      <td>Software Engineering</td>\n",
       "      <td>Software Engineering Manager</td>\n",
       "      <td>$56,160.00</td>\n",
       "      <td>56160</td>\n",
       "    </tr>\n",
       "    <tr>\n",
       "      <th>3</th>\n",
       "      <td>Szabo</td>\n",
       "      <td>Andrew</td>\n",
       "      <td>34</td>\n",
       "      <td>Male</td>\n",
       "      <td>United States</td>\n",
       "      <td>White</td>\n",
       "      <td>7/7/2014</td>\n",
       "      <td>Software Engineering</td>\n",
       "      <td>Software Engineer</td>\n",
       "      <td>$99,840.00</td>\n",
       "      <td>99840</td>\n",
       "    </tr>\n",
       "    <tr>\n",
       "      <th>8</th>\n",
       "      <td>Jeremy</td>\n",
       "      <td>Peter</td>\n",
       "      <td>43</td>\n",
       "      <td>Male</td>\n",
       "      <td>United States</td>\n",
       "      <td>White</td>\n",
       "      <td>5/12/2014</td>\n",
       "      <td>Sales</td>\n",
       "      <td>Area Sales Manager</td>\n",
       "      <td>$116,480.00</td>\n",
       "      <td>116480</td>\n",
       "    </tr>\n",
       "    <tr>\n",
       "      <th>9</th>\n",
       "      <td>Gonzales</td>\n",
       "      <td>Ricardo</td>\n",
       "      <td>63</td>\n",
       "      <td>Male</td>\n",
       "      <td>United States</td>\n",
       "      <td>White</td>\n",
       "      <td>5/12/2014</td>\n",
       "      <td>Sales</td>\n",
       "      <td>Area Sales Manager</td>\n",
       "      <td>$115,440.00</td>\n",
       "      <td>115440</td>\n",
       "    </tr>\n",
       "    <tr>\n",
       "      <th>10</th>\n",
       "      <td>Buck</td>\n",
       "      <td>Edward</td>\n",
       "      <td>42</td>\n",
       "      <td>Male</td>\n",
       "      <td>United States</td>\n",
       "      <td>White</td>\n",
       "      <td>9/29/2014</td>\n",
       "      <td>Sales</td>\n",
       "      <td>Area Sales Manager</td>\n",
       "      <td>$114,400.00</td>\n",
       "      <td>114400</td>\n",
       "    </tr>\n",
       "    <tr>\n",
       "      <th>15</th>\n",
       "      <td>Khemmich</td>\n",
       "      <td>Bartholemew</td>\n",
       "      <td>38</td>\n",
       "      <td>Male</td>\n",
       "      <td>United States</td>\n",
       "      <td>White</td>\n",
       "      <td>8/19/2013</td>\n",
       "      <td>Sales</td>\n",
       "      <td>Area Sales Manager</td>\n",
       "      <td>$114,400.00</td>\n",
       "      <td>114400</td>\n",
       "    </tr>\n",
       "    <tr>\n",
       "      <th>16</th>\n",
       "      <td>Ozark</td>\n",
       "      <td>Travis</td>\n",
       "      <td>35</td>\n",
       "      <td>Male</td>\n",
       "      <td>United States</td>\n",
       "      <td>White</td>\n",
       "      <td>1/5/2015</td>\n",
       "      <td>Sales</td>\n",
       "      <td>Area Sales Manager</td>\n",
       "      <td>$114,400.00</td>\n",
       "      <td>114400</td>\n",
       "    </tr>\n",
       "    <tr>\n",
       "      <th>17</th>\n",
       "      <td>Riordan</td>\n",
       "      <td>Michael</td>\n",
       "      <td>50</td>\n",
       "      <td>Male</td>\n",
       "      <td>United States</td>\n",
       "      <td>White</td>\n",
       "      <td>1/9/2006</td>\n",
       "      <td>Sales</td>\n",
       "      <td>Area Sales Manager</td>\n",
       "      <td>$114,400.00</td>\n",
       "      <td>114400</td>\n",
       "    </tr>\n",
       "    <tr>\n",
       "      <th>18</th>\n",
       "      <td>Sahoo</td>\n",
       "      <td>Adil</td>\n",
       "      <td>31</td>\n",
       "      <td>Male</td>\n",
       "      <td>United States</td>\n",
       "      <td>White</td>\n",
       "      <td>8/30/2010</td>\n",
       "      <td>Production</td>\n",
       "      <td>Production Technician II</td>\n",
       "      <td>$60,320.00</td>\n",
       "      <td>60320</td>\n",
       "    </tr>\n",
       "    <tr>\n",
       "      <th>20</th>\n",
       "      <td>Monkfish</td>\n",
       "      <td>Erasumus</td>\n",
       "      <td>25</td>\n",
       "      <td>Male</td>\n",
       "      <td>United States</td>\n",
       "      <td>White</td>\n",
       "      <td>11/7/2011</td>\n",
       "      <td>Production</td>\n",
       "      <td>Production Technician II</td>\n",
       "      <td>$56,160.00</td>\n",
       "      <td>56160</td>\n",
       "    </tr>\n",
       "  </tbody>\n",
       "</table>\n",
       "</div>"
      ],
      "text/plain": [
       "       Surname         Name  Age Gender        Country Ethnicity Start_date  \\\n",
       "0   Sweetwater         Alex   51   Male  United States     White  8/15/2011   \n",
       "3        Szabo       Andrew   34   Male  United States     White   7/7/2014   \n",
       "8       Jeremy        Peter   43   Male  United States     White  5/12/2014   \n",
       "9     Gonzales      Ricardo   63   Male  United States     White  5/12/2014   \n",
       "10        Buck       Edward   42   Male  United States     White  9/29/2014   \n",
       "15    Khemmich  Bartholemew   38   Male  United States     White  8/19/2013   \n",
       "16       Ozark       Travis   35   Male  United States     White   1/5/2015   \n",
       "17     Riordan      Michael   50   Male  United States     White   1/9/2006   \n",
       "18       Sahoo         Adil   31   Male  United States     White  8/30/2010   \n",
       "20    Monkfish     Erasumus   25   Male  United States     White  11/7/2011   \n",
       "\n",
       "                   Department                      Position       Salary  \\\n",
       "0   Software Engineering       Software Engineering Manager   $56,160.00   \n",
       "3        Software Engineering             Software Engineer   $99,840.00   \n",
       "8                       Sales            Area Sales Manager  $116,480.00   \n",
       "9                       Sales            Area Sales Manager  $115,440.00   \n",
       "10                      Sales            Area Sales Manager  $114,400.00   \n",
       "15                      Sales            Area Sales Manager  $114,400.00   \n",
       "16                      Sales            Area Sales Manager  $114,400.00   \n",
       "17                      Sales            Area Sales Manager  $114,400.00   \n",
       "18          Production             Production Technician II   $60,320.00   \n",
       "20          Production             Production Technician II   $56,160.00   \n",
       "\n",
       "    salary  \n",
       "0    56160  \n",
       "3    99840  \n",
       "8   116480  \n",
       "9   115440  \n",
       "10  114400  \n",
       "15  114400  \n",
       "16  114400  \n",
       "17  114400  \n",
       "18   60320  \n",
       "20   56160  "
      ]
     },
     "execution_count": 38,
     "metadata": {},
     "output_type": "execute_result"
    }
   ],
   "source": [
    "male.head(10)"
   ]
  },
  {
   "cell_type": "code",
   "execution_count": 39,
   "metadata": {},
   "outputs": [
    {
     "data": {
      "text/html": [
       "<div>\n",
       "<style scoped>\n",
       "    .dataframe tbody tr th:only-of-type {\n",
       "        vertical-align: middle;\n",
       "    }\n",
       "\n",
       "    .dataframe tbody tr th {\n",
       "        vertical-align: top;\n",
       "    }\n",
       "\n",
       "    .dataframe thead th {\n",
       "        text-align: right;\n",
       "    }\n",
       "</style>\n",
       "<table border=\"1\" class=\"dataframe\">\n",
       "  <thead>\n",
       "    <tr style=\"text-align: right;\">\n",
       "      <th></th>\n",
       "      <th>Surname</th>\n",
       "      <th>Name</th>\n",
       "      <th>Age</th>\n",
       "      <th>Gender</th>\n",
       "      <th>Country</th>\n",
       "      <th>Ethnicity</th>\n",
       "      <th>Start_date</th>\n",
       "      <th>Department</th>\n",
       "      <th>Position</th>\n",
       "      <th>Salary</th>\n",
       "      <th>salary</th>\n",
       "    </tr>\n",
       "  </thead>\n",
       "  <tbody>\n",
       "    <tr>\n",
       "      <th>1</th>\n",
       "      <td>Carabbio</td>\n",
       "      <td>Judith</td>\n",
       "      <td>30</td>\n",
       "      <td>Female</td>\n",
       "      <td>United States</td>\n",
       "      <td>White</td>\n",
       "      <td>11/11/2013</td>\n",
       "      <td>Software Engineering</td>\n",
       "      <td>Software Engineer</td>\n",
       "      <td>$116,480.00</td>\n",
       "      <td>116480</td>\n",
       "    </tr>\n",
       "    <tr>\n",
       "      <th>2</th>\n",
       "      <td>Saada</td>\n",
       "      <td>Adell</td>\n",
       "      <td>31</td>\n",
       "      <td>Female</td>\n",
       "      <td>United States</td>\n",
       "      <td>White</td>\n",
       "      <td>11/5/2012</td>\n",
       "      <td>Software Engineering</td>\n",
       "      <td>Software Engineer</td>\n",
       "      <td>$102,440.00</td>\n",
       "      <td>102440</td>\n",
       "    </tr>\n",
       "    <tr>\n",
       "      <th>4</th>\n",
       "      <td>Andreola</td>\n",
       "      <td>Colby</td>\n",
       "      <td>38</td>\n",
       "      <td>Female</td>\n",
       "      <td>United States</td>\n",
       "      <td>White</td>\n",
       "      <td>11/10/2014</td>\n",
       "      <td>Software Engineering</td>\n",
       "      <td>Software Engineer</td>\n",
       "      <td>$99,008.00</td>\n",
       "      <td>99008</td>\n",
       "    </tr>\n",
       "    <tr>\n",
       "      <th>5</th>\n",
       "      <td>Daneault</td>\n",
       "      <td>Lynn</td>\n",
       "      <td>27</td>\n",
       "      <td>Female</td>\n",
       "      <td>United States</td>\n",
       "      <td>White</td>\n",
       "      <td>5/5/2014</td>\n",
       "      <td>Sales</td>\n",
       "      <td>Sales Manager</td>\n",
       "      <td>$112,320.00</td>\n",
       "      <td>112320</td>\n",
       "    </tr>\n",
       "    <tr>\n",
       "      <th>6</th>\n",
       "      <td>Houlihan</td>\n",
       "      <td>Debra</td>\n",
       "      <td>51</td>\n",
       "      <td>Female</td>\n",
       "      <td>United States</td>\n",
       "      <td>White</td>\n",
       "      <td>5/5/2014</td>\n",
       "      <td>Sales</td>\n",
       "      <td>Director of Sales</td>\n",
       "      <td>$124,800.00</td>\n",
       "      <td>124800</td>\n",
       "    </tr>\n",
       "    <tr>\n",
       "      <th>7</th>\n",
       "      <td>Onque</td>\n",
       "      <td>Jasmine</td>\n",
       "      <td>27</td>\n",
       "      <td>Female</td>\n",
       "      <td>United States</td>\n",
       "      <td>White</td>\n",
       "      <td>9/30/2013</td>\n",
       "      <td>Sales</td>\n",
       "      <td>Area Sales Manager</td>\n",
       "      <td>$118,560.00</td>\n",
       "      <td>118560</td>\n",
       "    </tr>\n",
       "    <tr>\n",
       "      <th>11</th>\n",
       "      <td>Carter</td>\n",
       "      <td>Michelle</td>\n",
       "      <td>54</td>\n",
       "      <td>Female</td>\n",
       "      <td>United States</td>\n",
       "      <td>White</td>\n",
       "      <td>8/18/2014</td>\n",
       "      <td>Sales</td>\n",
       "      <td>Area Sales Manager</td>\n",
       "      <td>$114,400.00</td>\n",
       "      <td>114400</td>\n",
       "    </tr>\n",
       "    <tr>\n",
       "      <th>12</th>\n",
       "      <td>Costa</td>\n",
       "      <td>Latia</td>\n",
       "      <td>29</td>\n",
       "      <td>Female</td>\n",
       "      <td>United States</td>\n",
       "      <td>White</td>\n",
       "      <td>1/10/2011</td>\n",
       "      <td>Sales</td>\n",
       "      <td>Area Sales Manager</td>\n",
       "      <td>$114,400.00</td>\n",
       "      <td>114400</td>\n",
       "    </tr>\n",
       "    <tr>\n",
       "      <th>13</th>\n",
       "      <td>Dietrich</td>\n",
       "      <td>Jenna</td>\n",
       "      <td>30</td>\n",
       "      <td>Female</td>\n",
       "      <td>United States</td>\n",
       "      <td>White</td>\n",
       "      <td>2/20/2012</td>\n",
       "      <td>Sales</td>\n",
       "      <td>Area Sales Manager</td>\n",
       "      <td>$114,400.00</td>\n",
       "      <td>114400</td>\n",
       "    </tr>\n",
       "    <tr>\n",
       "      <th>14</th>\n",
       "      <td>Givens</td>\n",
       "      <td>Myriam</td>\n",
       "      <td>28</td>\n",
       "      <td>Female</td>\n",
       "      <td>United States</td>\n",
       "      <td>White</td>\n",
       "      <td>2/16/2015</td>\n",
       "      <td>Sales</td>\n",
       "      <td>Area Sales Manager</td>\n",
       "      <td>$114,400.00</td>\n",
       "      <td>114400</td>\n",
       "    </tr>\n",
       "  </tbody>\n",
       "</table>\n",
       "</div>"
      ],
      "text/plain": [
       "     Surname      Name  Age  Gender        Country Ethnicity  Start_date  \\\n",
       "1   Carabbio    Judith   30  Female  United States     White  11/11/2013   \n",
       "2      Saada     Adell   31  Female  United States     White   11/5/2012   \n",
       "4   Andreola     Colby   38  Female  United States     White  11/10/2014   \n",
       "5   Daneault      Lynn   27  Female  United States     White    5/5/2014   \n",
       "6   Houlihan     Debra   51  Female  United States     White    5/5/2014   \n",
       "7      Onque   Jasmine   27  Female  United States     White   9/30/2013   \n",
       "11    Carter  Michelle   54  Female  United States     White   8/18/2014   \n",
       "12     Costa     Latia   29  Female  United States     White   1/10/2011   \n",
       "13  Dietrich     Jenna   30  Female  United States     White   2/20/2012   \n",
       "14    Givens    Myriam   28  Female  United States     White   2/16/2015   \n",
       "\n",
       "              Department            Position       Salary  salary  \n",
       "1   Software Engineering   Software Engineer  $116,480.00  116480  \n",
       "2   Software Engineering   Software Engineer  $102,440.00  102440  \n",
       "4   Software Engineering   Software Engineer   $99,008.00   99008  \n",
       "5                  Sales       Sales Manager  $112,320.00  112320  \n",
       "6                  Sales   Director of Sales  $124,800.00  124800  \n",
       "7                  Sales  Area Sales Manager  $118,560.00  118560  \n",
       "11                 Sales  Area Sales Manager  $114,400.00  114400  \n",
       "12                 Sales  Area Sales Manager  $114,400.00  114400  \n",
       "13                 Sales  Area Sales Manager  $114,400.00  114400  \n",
       "14                 Sales  Area Sales Manager  $114,400.00  114400  "
      ]
     },
     "execution_count": 39,
     "metadata": {},
     "output_type": "execute_result"
    }
   ],
   "source": [
    "female.head(10)"
   ]
  },
  {
   "cell_type": "markdown",
   "metadata": {},
   "source": [
    "#### Step 2: Calculate statsistical dataset"
   ]
  },
  {
   "cell_type": "code",
   "execution_count": 40,
   "metadata": {},
   "outputs": [
    {
     "name": "stdout",
     "output_type": "stream",
     "text": [
      "- Mean Male salary is 70469.98\n",
      "- Mean female salary is 64785.27419354839\n"
     ]
    }
   ],
   "source": [
    "print(\"- Mean Male salary is {}\".format(male.salary.mean()))\n",
    "print(\"- Mean female salary is {}\".format(female.salary.mean()))"
   ]
  },
  {
   "cell_type": "code",
   "execution_count": 41,
   "metadata": {},
   "outputs": [
    {
     "name": "stdout",
     "output_type": "stream",
     "text": [
      "Difference between male and female salary is 5684.7058064516095\n"
     ]
    }
   ],
   "source": [
    "D_salary = male.salary.mean() - female.salary.mean()\n",
    "print(\"Difference between male and female salary is {}\".format(D_salary))"
   ]
  },
  {
   "cell_type": "markdown",
   "metadata": {},
   "source": [
    "### For sample data\n",
    "    > As stastitical data states that male salary and female salary is not same. \n",
    "    > Average male salary is greater than female salary i.e 5684.70 "
   ]
  },
  {
   "cell_type": "markdown",
   "metadata": {},
   "source": [
    "#### Test\n",
    "     Check P(x=5684|Ho) "
   ]
  },
  {
   "cell_type": "markdown",
   "metadata": {},
   "source": [
    "#### Step 3: Test "
   ]
  },
  {
   "cell_type": "code",
   "execution_count": 42,
   "metadata": {},
   "outputs": [
    {
     "data": {
      "text/plain": [
       "(0.8861987181655508, 0.37551045427638696)"
      ]
     },
     "execution_count": 42,
     "metadata": {},
     "output_type": "execute_result"
    }
   ],
   "source": [
    "import statsmodels.api as sm\n",
    "sm.stats.ztest(male[\"salary\"].dropna(), female[\"salary\"].dropna(),alternative='two-sided')"
   ]
  },
  {
   "cell_type": "markdown",
   "metadata": {},
   "source": [
    "- Since the p-value (0.37551045427638696) is considerable, we can not reject the Null hypothesis that the mean salary of males is the same as that of females."
   ]
  },
  {
   "cell_type": "markdown",
   "metadata": {},
   "source": [
    "## Salary for men and women is us is same"
   ]
  }
 ],
 "metadata": {
  "kernelspec": {
   "display_name": "Python 3",
   "language": "python",
   "name": "python3"
  },
  "language_info": {
   "codemirror_mode": {
    "name": "ipython",
    "version": 3
   },
   "file_extension": ".py",
   "mimetype": "text/x-python",
   "name": "python",
   "nbconvert_exporter": "python",
   "pygments_lexer": "ipython3",
   "version": "3.6.9"
  }
 },
 "nbformat": 4,
 "nbformat_minor": 2
}
